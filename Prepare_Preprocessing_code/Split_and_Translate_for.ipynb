{
  "cells": [
    {
      "cell_type": "code",
      "execution_count": null,
      "metadata": {
        "id": "Dp7Rrn7SqVVY"
      },
      "outputs": [],
      "source": [
        "# 파일을 원하는 만큼 분할(쪼개기)\n",
        "f = open(\"/content/Q30.txt\", 'r')\n",
        "lines = f.readlines()\n",
        "f.close()\n",
        " \n",
        "cnt = 1\n",
        "fileName_Num = 1\n",
        " \n",
        " \n",
        "for line in lines:\n",
        "    fileName = \"Q30\" + '_' +str(fileName_Num) + \".txt\"\n",
        " \n",
        "    fw = open(fileName, \"a\")\n",
        "    fw.write(line)\n",
        "    fw.close()\n",
        " \n",
        "    # 목록을 5개씩 분할함\n",
        "    if cnt == 100:\n",
        "        fileName_Num = fileName_Num + 1\n",
        "        cnt = 0\n",
        "    \n",
        "    cnt = cnt + 1\n",
        " "
      ]
    },
    {
      "cell_type": "code",
      "execution_count": null,
      "metadata": {
        "id": "UmcTmzDIp2q1"
      },
      "outputs": [],
      "source": [
        "import requests\n",
        "\n",
        "\n",
        "client_id = \"wrlba8fyci\" \n",
        "client_secret = \"rm1gHqatN0Q2tTWNkTPt75W8Fi7rJmzPnu4mYRiX\" \n",
        "url = \"https://naveropenapi.apigw.ntruss.com/nmt/v1/translation\"\n",
        "\n",
        "with open('/content/Q30_1.txt', 'r') as lyric:\n",
        "    data = lyric.read()\n",
        "    # print(data)\n",
        "\n",
        "#요청 헤더\n",
        "req_header = {\"X-NCP-APIGW-API-KEY-ID\":client_id, \"X-NCP-APIGW-API-KEY\":client_secret}\n",
        "#요청 파라미터\n",
        "req_param = {\"source\":\"ko\", \"target\":\"en\", \"text\":data}\n",
        "#print(req_param)\n",
        "\n",
        "res = requests.post(url,headers=req_header, data=req_param)\n",
        "\n",
        "#print(res.status_code, res.ok)\n",
        "\n",
        "if res.ok:\n",
        "    print(type(res.text),res.text)\n",
        "    print(type(res.json()),res.json())\n",
        "    trans_txt=res.json()['message']['result']['translatedText']\n",
        "    print(trans_txt)\n",
        "else:\n",
        "    print('error code', res.status_code)\n",
        "\n",
        "f = open('q4_1.txt', 'w') \n",
        "print(trans_txt, file=f) # 파일 저장하기\n",
        "f.close()    "
      ]
    },
    {
      "cell_type": "code",
      "execution_count": null,
      "metadata": {
        "id": "dJGA23M31ZQ8"
      },
      "outputs": [],
      "source": []
    },
    {
      "cell_type": "code",
      "execution_count": null,
      "metadata": {
        "id": "UO9NOcnL0UiR"
      },
      "outputs": [],
      "source": []
    },
    {
      "cell_type": "code",
      "execution_count": null,
      "metadata": {
        "id": "HmeJAVcksKAa"
      },
      "outputs": [],
      "source": []
    },
    {
      "cell_type": "markdown",
      "metadata": {
        "id": "9dD8Rjtr-bP-"
      },
      "source": [
        "# For 문 활용"
      ]
    },
    {
      "cell_type": "code",
      "execution_count": null,
      "metadata": {
        "id": "X_zzUdTHzXzk"
      },
      "outputs": [],
      "source": [
        "# 파일을 원하는 만큼 분할(쪼개기)\n",
        "f = open(\"/content/Q17.txt\", 'r')\n",
        "lines = f.readlines()\n",
        "f.close()\n",
        " \n",
        "cnt = 1\n",
        "fileName_Num = 1\n",
        " \n",
        " \n",
        "for line in lines:\n",
        "    fileName = \"Q17\" + '_' +str(fileName_Num) + \".txt\"\n",
        " \n",
        "    fw = open(fileName, \"a\")\n",
        "    fw.write(line)\n",
        "    fw.close()\n",
        " \n",
        "    # 목록을 5개씩 분할함\n",
        "    if cnt == 100:\n",
        "        fileName_Num = fileName_Num + 1\n",
        "        cnt = 0\n",
        "    \n",
        "    cnt = cnt + 1\n",
        " "
      ]
    },
    {
      "cell_type": "code",
      "execution_count": null,
      "metadata": {
        "id": "Xfv8RV6fxR8J"
      },
      "outputs": [],
      "source": [
        "import requests\n",
        "\n",
        "client_id = \"zaBs1yQcvxLf7GgV0EDb\" \n",
        "client_secret = \"44SHYdw98V\" \n",
        "url = \"https://openapi.naver.com/v1/papago/n2mt\"\n",
        "\n",
        "for i in range(1,10):\n",
        "  with open(f'/content/Q30_{i}.txt', 'r') as lyric:\n",
        "    data = lyric.read()\n",
        "    # print(data)\n",
        "\n",
        "  #요청 헤더\n",
        "  req_header = {\"X-Naver-Client-Id\":client_id, \"X-Naver-Client-Secret\":client_secret}\n",
        "  #요청 파라미터\n",
        "  req_param = {\"source\":\"ko\", \"target\":\"en\", \"text\":data}\n",
        "  #print(req_param)\n",
        "\n",
        "  res = requests.post(url,headers=req_header, data=req_param)\n",
        "\n",
        "  #print(res.status_code, res.ok)\n",
        "\n",
        "  if res.ok:\n",
        "      print(type(res.text),res.text)\n",
        "      print(type(res.json()),res.json())\n",
        "      trans_txt=res.json()['message']['result']['translatedText']\n",
        "      print(trans_txt)\n",
        "  else:\n",
        "      print('error code', res.status_code)\n",
        "  \n",
        "  text_file = open(f'/content/q_30_{i}.txt', 'w')\n",
        "  my_string = trans_txt\n",
        "  text_file.write(my_string)\n",
        "  text_file.close()"
      ]
    },
    {
      "cell_type": "code",
      "execution_count": null,
      "metadata": {
        "id": "Wmsynrfu9GSA"
      },
      "outputs": [],
      "source": [
        "# 실행한 파일 목록 제거\n",
        "\n",
        "import os\n",
        "\n",
        "\n",
        "for i in range(1,15):\n",
        "  file_path = f\"/content/q_30_{i}.txt\"\n",
        "\n",
        "  if os.path.exists(file_path):\n",
        "    os.remove(file_path)"
      ]
    },
    {
      "cell_type": "code",
      "execution_count": null,
      "metadata": {
        "id": "Syqo32cV90g6"
      },
      "outputs": [],
      "source": [
        "# 파일 저장\n",
        "from google.colab import files\n",
        "\n",
        "for i in range(1,13):\n",
        "  file_path = f\"/content/q28/q_28_{i}.txt\"\n",
        "\n",
        "  files.download(file_path)"
      ]
    }
  ],
  "metadata": {
    "colab": {
      "private_outputs": true,
      "provenance": []
    },
    "kernelspec": {
      "display_name": "Python 3.9.10 64-bit",
      "language": "python",
      "name": "python3"
    },
    "language_info": {
      "name": "python",
      "version": "3.9.10"
    },
    "vscode": {
      "interpreter": {
        "hash": "81794d4967e6c3204c66dcd87b604927b115b27c00565d3d43f05ba2f3a2cb0d"
      }
    }
  },
  "nbformat": 4,
  "nbformat_minor": 0
}
