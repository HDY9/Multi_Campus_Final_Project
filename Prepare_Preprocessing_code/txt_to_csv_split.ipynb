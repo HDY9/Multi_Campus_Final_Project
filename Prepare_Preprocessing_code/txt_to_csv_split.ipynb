{
  "cells": [
    {
      "cell_type": "code",
      "execution_count": null,
      "metadata": {
        "id": "i-O8jIu_gH7V"
      },
      "outputs": [],
      "source": [
        "import pandas as pd\n",
        "from pandas import DataFrame as df"
      ]
    },
    {
      "cell_type": "code",
      "execution_count": null,
      "metadata": {
        "id": "r9kZJECAsP5Z"
      },
      "outputs": [],
      "source": [
        "with open('train_label', 'r') as f:\n",
        "    data = f.readlines()"
      ]
    },
    {
      "cell_type": "code",
      "execution_count": null,
      "metadata": {
        "id": "g40FERnHp_m2"
      },
      "outputs": [],
      "source": [
        "df1 = df(data, columns = ['train_label'])"
      ]
    },
    {
      "cell_type": "code",
      "execution_count": null,
      "metadata": {
        "id": "mZ4NUE6PqKcX"
      },
      "outputs": [],
      "source": [
        "df1"
      ]
    },
    {
      "cell_type": "code",
      "execution_count": null,
      "metadata": {
        "id": "I-3INN14qMB8"
      },
      "outputs": [],
      "source": [
        "df1['A1'] = df1.A0.str.split('\\t').str[0]\n",
        "df1['A2'] = df1.A0.str.split('\\t').str[1]"
      ]
    },
    {
      "cell_type": "code",
      "execution_count": null,
      "metadata": {
        "id": "CHTTtKOBrjqo"
      },
      "outputs": [],
      "source": [
        "df1 = df1.drop(columns = 'A0')\n",
        "df1"
      ]
    },
    {
      "cell_type": "code",
      "execution_count": null,
      "metadata": {
        "id": "twvKW3Ngr9bZ"
      },
      "outputs": [],
      "source": [
        "df1.to_csv('/content/train_label.csv')"
      ]
    },
    {
      "cell_type": "markdown",
      "metadata": {
        "id": "cFxfRLdRvcdN"
      },
      "source": [
        "# 데이터프레임 합치기"
      ]
    },
    {
      "cell_type": "code",
      "execution_count": null,
      "metadata": {
        "id": "pW5Q7KUxs7Jv"
      },
      "outputs": [],
      "source": [
        "df1 = pd.read_csv(\"/content/data.csv\")\n",
        "df2 = pd.read_csv(\"/content/data_label.csv\")\n",
        "df3 = pd.read_csv(\"/content/test_data.csv\")\n",
        "df4 = pd.read_csv(\"/content/test_label.csv\")\n",
        "df5 = pd.read_csv(\"/content/train_data.csv\")\n",
        "df6 = pd.read_csv(\"/content/train_label.csv\")"
      ]
    },
    {
      "cell_type": "code",
      "execution_count": null,
      "metadata": {
        "id": "khZ6S6U0vwop"
      },
      "outputs": [],
      "source": [
        "result1 = pd.concat([df1,df2],axis=1)\n",
        "result2 = pd.concat([df3,df4],axis=1)\n",
        "result3 = pd.concat([df5,df6],axis=1)"
      ]
    },
    {
      "cell_type": "code",
      "execution_count": null,
      "metadata": {
        "id": "gR6ukTA-wUDT"
      },
      "outputs": [],
      "source": [
        "result3 = result3.drop(columns = 'Unnamed: 0')"
      ]
    },
    {
      "cell_type": "code",
      "execution_count": null,
      "metadata": {
        "id": "tj45lAirwV8u"
      },
      "outputs": [],
      "source": [
        "result3"
      ]
    },
    {
      "cell_type": "code",
      "execution_count": null,
      "metadata": {
        "id": "g-JJPIHqwqn6"
      },
      "outputs": [],
      "source": [
        "result1.to_csv('/content/data_1.csv')\n",
        "result2.to_csv('/content/test_1.csv')\n",
        "result3.to_csv('/content/train_1.csv')"
      ]
    },
    {
      "cell_type": "code",
      "execution_count": null,
      "metadata": {
        "id": "2p4WNVbrxBd8"
      },
      "outputs": [],
      "source": []
    }
  ],
  "metadata": {
    "colab": {
      "private_outputs": true,
      "provenance": []
    },
    "kernelspec": {
      "display_name": "Python 3.9.10 64-bit",
      "language": "python",
      "name": "python3"
    },
    "language_info": {
      "name": "python",
      "version": "3.9.10"
    },
    "vscode": {
      "interpreter": {
        "hash": "81794d4967e6c3204c66dcd87b604927b115b27c00565d3d43f05ba2f3a2cb0d"
      }
    }
  },
  "nbformat": 4,
  "nbformat_minor": 0
}
